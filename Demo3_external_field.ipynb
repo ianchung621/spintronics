{
 "cells": [
  {
   "cell_type": "code",
   "execution_count": 7,
   "metadata": {},
   "outputs": [],
   "source": [
    "import numpy as np\n",
    "from lattice import lattice_2D\n",
    "import matplotlib.pyplot as plt\n",
    "import matplotlib as mpl\n",
    "from sklearn.preprocessing import normalize\n",
    "from LLGS_simulation import LLGS_Simulation_2D\n",
    "from mpl_toolkits.mplot3d import Axes3D\n",
    "import matplotlib.animation as animation\n",
    "import glob\n",
    "plt.style.use('dark_background')"
   ]
  },
  {
   "cell_type": "code",
   "execution_count": 8,
   "metadata": {},
   "outputs": [],
   "source": [
    "problem_name = \"external_field\"\n",
    "simple_cubic = lattice_2D(1,4,3)\n",
    "simple_cubic.set_position(\n",
    "    r_a = np.array([1,0]),\n",
    "    r_b = np.array([0,1]),\n",
    "    r_site = np.array((\n",
    "    [0,0] #first site\n",
    "    ))\n",
    ")"
   ]
  },
  {
   "cell_type": "code",
   "execution_count": 9,
   "metadata": {},
   "outputs": [
    {
     "data": {
      "text/plain": [
       "(-0.15000000000000002, 3.15, -0.1, 2.1)"
      ]
     },
     "execution_count": 9,
     "metadata": {},
     "output_type": "execute_result"
    },
    {
     "data": {
      "image/png": "[encoded data removed]",
      "text/plain": [
       "<Figure size 640x480 with 1 Axes>"
      ]
     },
     "metadata": {},
     "output_type": "display_data"
    }
   ],
   "source": [
    "structure = simple_cubic.get_positions()\n",
    "\n",
    "plt.plot(structure[:,0],structure[:,1],'.')\n",
    "plt.axis('equal')\n",
    "plt.axis('off')"
   ]
  },
  {
   "cell_type": "code",
   "execution_count": 10,
   "metadata": {},
   "outputs": [],
   "source": [
    "def initialRandomSpin(lattice:lattice_2D):\n",
    "    \"\"\"\n",
    "        Initial particles\n",
    "    \"\"\"\n",
    "    N=lattice.N\n",
    "    sx=np.random.normal(0,1,N)\n",
    "    sy=np.random.normal(0,1,N)\n",
    "    sz=np.zeros(N)\n",
    "    spins = np.transpose(np.vstack((sx,sy,sz)))\n",
    "    spins_normalized = normalize(spins)\n",
    "\n",
    "    lattice.set_spins(spins_normalized)\n",
    "    return lattice"
   ]
  },
  {
   "cell_type": "code",
   "execution_count": 11,
   "metadata": {},
   "outputs": [
    {
     "data": {
      "text/plain": [
       "<lattice.lattice_2D at 0x13f51e110>"
      ]
     },
     "execution_count": 11,
     "metadata": {},
     "output_type": "execute_result"
    }
   ],
   "source": [
    "initialRandomSpin(simple_cubic)"
   ]
  },
  {
   "cell_type": "code",
   "execution_count": 12,
   "metadata": {},
   "outputs": [
    {
     "name": "stderr",
     "output_type": "stream",
     "text": [
      "OMP: Info #276: omp_set_nested routine deprecated, please use omp_set_max_active_levels instead.\n"
     ]
    },
    {
     "name": "stdout",
     "output_type": "stream",
     "text": [
      "simulation is done\n"
     ]
    }
   ],
   "source": [
    "method = \"Euler\"\n",
    "dt=0.001\n",
    "sim = LLGS_Simulation_2D(simple_cubic)\n",
    "sim.setup(H_ext=np.array([0,0,5]),io_title=problem_name,method=method)\n",
    "sim.evolve(simple_cubic,dt=dt,tmax=0.5)"
   ]
  },
  {
   "cell_type": "code",
   "execution_count": 13,
   "metadata": {},
   "outputs": [
    {
     "data": {
      "text/plain": [
       "<Figure size 640x480 with 0 Axes>"
      ]
     },
     "metadata": {},
     "output_type": "display_data"
    },
    {
     "data": {
      "image/png": "[encoded data removed]",
      "text/plain": [
       "<Figure size 640x480 with 2 Axes>"
      ]
     },
     "metadata": {},
     "output_type": "display_data"
    }
   ],
   "source": [
    "plt.style.use(\"dark_background\")\n",
    "plt.set_cmap('bwr')\n",
    "\n",
    "fig, ax =plt.subplots()\n",
    "#fig.set_size_inches(20, 20, forward=True)\n",
    "#fig.set_dpi(72)\n",
    "line = ax.plot([],[])\n",
    "\n",
    "cmap = plt.get_cmap(\"bwr\")\n",
    "norm = mpl.colors.Normalize(vmin=-1, vmax=1)\n",
    "sm = plt.cm.ScalarMappable(cmap=cmap, norm=norm)\n",
    "plt.colorbar(sm,ax=ax)\n",
    "\n",
    "def init():\n",
    "    fn_structure = \"data_\"+problem_name+\"/structure.txt\"\n",
    "    site,a,b,x,y = np.transpose(np.loadtxt(fn_structure))\n",
    "    ax.plot(x,y,'w.',markersize=2)\n",
    "\n",
    "    return line\n",
    "\n",
    "def updateLattice(frame):\n",
    "    fn_structure = \"data_\"+problem_name+\"/structure.txt\"\n",
    "    fn = fns[frame]\n",
    "    sx,sy,sz = np.transpose(np.loadtxt(fn))\n",
    "    site,a,b,x,y = np.transpose(np.loadtxt(fn_structure))\n",
    "\n",
    "    arrowscale=0.3\n",
    "    ax.clear()\n",
    "    ax.plot(x,y,'w.',markersize=2)\n",
    "    ax.quiver(x,y,sx*arrowscale,sy*arrowscale,sz,norm=norm)\n",
    "    ax.set_aspect('equal')\n",
    "    ax.axis(\"off\")\n",
    "    plt.title(f\"time = {(frame*dt):0.2f} ns\")\n",
    "\n",
    "    return line\n",
    "\n",
    "\n",
    "fns = \"data_\"+problem_name+\"/\"+method+\"_[0-9][0-9][0-9][0-9][0-9].txt\"\n",
    "fns = glob.glob(fns)\n",
    "fns.sort()\n",
    "ani = animation.FuncAnimation(fig, updateLattice, frames=len(fns),init_func=init, blit=True)\n",
    "ani.save('movie_'+problem_name+'.mp4',fps=10)"
   ]
  },
  {
   "cell_type": "code",
   "execution_count": null,
   "metadata": {},
   "outputs": [],
   "source": []
  }
 ],
 "metadata": {
  "kernelspec": {
   "display_name": "Python 3.10.6 ('ml')",
   "language": "python",
   "name": "python3"
  },
  "language_info": {
   "codemirror_mode": {
    "name": "ipython",
    "version": 3
   },
   "file_extension": ".py",
   "mimetype": "text/x-python",
   "name": "python",
   "nbconvert_exporter": "python",
   "pygments_lexer": "ipython3",
   "version": "3.10.6"
  },
  "orig_nbformat": 4,
  "vscode": {
   "interpreter": {
    "hash": "f48538dd8850410bcab434a98864f87cc15ca5f7235d553ca170463437930a21"
   }
  }
 },
 "nbformat": 4,
 "nbformat_minor": 2
}
